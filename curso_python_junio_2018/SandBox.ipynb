{
 "cells": [
  {
   "cell_type": "markdown",
   "metadata": {},
   "source": [
    "# Curso de Programación en Python\n",
    "\n",
    "## Planetario de Bogotá\n",
    "\n",
    "## Junio de 2018\n",
    "\n",
    "Felipe L Gómez-Cortés\n",
    "\n",
    "e-mail: felipe.gomez at idartes.gov.co\n",
    "\n",
    ".\n",
    "\n",
    ".\n",
    "\n",
    "~(˘▾˘~)\n",
    "\n",
    ".\n",
    "\n",
    "."
   ]
  },
  {
   "cell_type": "code",
   "execution_count": null,
   "metadata": {},
   "outputs": [],
   "source": []
  }
 ],
 "metadata": {
  "kernelspec": {
   "display_name": "Python 3",
   "language": "python",
   "name": "python3"
  },
  "language_info": {
   "codemirror_mode": {
    "name": "ipython",
    "version": 3
   },
   "file_extension": ".py",
   "mimetype": "text/x-python",
   "name": "python",
   "nbconvert_exporter": "python",
   "pygments_lexer": "ipython3",
   "version": "3.6.5"
  }
 },
 "nbformat": 4,
 "nbformat_minor": 2
}
